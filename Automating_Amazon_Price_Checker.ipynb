{
 "cells": [
  {
   "cell_type": "code",
   "execution_count": 117,
   "id": "c952d236-9adc-49d6-acf2-424e64e6c0b9",
   "metadata": {},
   "outputs": [],
   "source": [
    "#importing libraries\n",
    "\n",
    "from bs4 import BeautifulSoup\n",
    "import requests\n",
    "import time\n",
    "import datetime\n",
    "import smtplib"
   ]
  },
  {
   "cell_type": "code",
   "execution_count": 207,
   "id": "35562003-bbf3-4b88-bcd1-6e932e69d861",
   "metadata": {},
   "outputs": [
    {
     "name": "stdout",
     "output_type": "stream",
     "text": [
      "<span class=\"a-size-small\" id=\"title\">\n",
      "           BANDAI NAMCO Entertainment One Piece TCG: Pillars of Strength Booster Box\n",
      "          </span>\n",
      "<span class=\"a-offscreen\">\n",
      "            $114.71\n",
      "           </span>\n"
     ]
    }
   ],
   "source": [
    "\n",
    "\n",
    "URL = \"https://www.amazon.com/BANDAI-NAMCO-Entertainment-One-Piece/dp/B0C916S4CF/ref=mp_s_a_1_1?keywords=one+piece+card&qid=1690773153&sr=8-1\"\n",
    "header = ({\"User-Agent\": \"Mozilla/5.0 (Linux; Android 10; K) AppleWebKit/537.36 (KHTML, like Gecko) Chrome/111.0.0.0 Mobile Safari/537.36\", \"Accept-Language\": \"en-US, en;q=0.5\"}) \n",
    "page = requests.get(URL, headers=headers)\n",
    "soup1 = BeautifulSoup(page.content, \"html.parser\")\n",
    "soup2 = BeautifulSoup(soup1.prettify(), \"html.parser\")\n",
    "title = soup2.find(id= \"title\")\n",
    "price = soup2.find(\"span\", class_=\"a-offscreen\")\n",
    "print(title)\n",
    "print(price)"
   ]
  },
  {
   "cell_type": "code",
   "execution_count": 208,
   "id": "99bea1e2-35fb-4e47-b76c-8c37445931cf",
   "metadata": {},
   "outputs": [
    {
     "name": "stdout",
     "output_type": "stream",
     "text": [
      "\n",
      "           BANDAI NAMCO Entertainment One Piece TCG: Pillars of Strength Booster Box\n",
      "          \n",
      "\n",
      "            $114.71\n",
      "           \n"
     ]
    }
   ],
   "source": [
    "title = title.get_text()\n",
    "print(title)\n",
    "price = price.get_text()\n",
    "print(price)"
   ]
  },
  {
   "cell_type": "code",
   "execution_count": 209,
   "id": "eb2ed5ef-12db-4cf4-8f06-8f49aec5ba0a",
   "metadata": {},
   "outputs": [
    {
     "name": "stdout",
     "output_type": "stream",
     "text": [
      "BANDAI NAMCO Entertainment One Piece TCG: Pillars of Strength Booster Box\n",
      "114.71\n"
     ]
    }
   ],
   "source": [
    "title = title.strip()\n",
    "price = price.strip()[1:]\n",
    "\n",
    "print(title)\n",
    "print(price)"
   ]
  },
  {
   "cell_type": "code",
   "execution_count": 210,
   "id": "c67fce41-d35c-46a1-97d8-c7cd25f2d74a",
   "metadata": {},
   "outputs": [
    {
     "name": "stdout",
     "output_type": "stream",
     "text": [
      "2023-07-31\n"
     ]
    }
   ],
   "source": [
    "today = datetime.date.today()\n",
    "\n",
    "print(today)"
   ]
  },
  {
   "cell_type": "code",
   "execution_count": 212,
   "id": "25a09419-3f55-4d04-884b-3bacb953de7e",
   "metadata": {},
   "outputs": [],
   "source": [
    "import csv\n",
    "\n",
    "header = ['Title','Price', 'Date']\n",
    "data = [title,price,today]\n",
    "type(data)\n",
    "\n",
    "with open('AmazonData.csv', 'w', newline='', encoding='UTF8') as f:\n",
    "    writer = csv.writer(f)\n",
    "    writer.writerow(header)\n",
    "    writer.writerow(data)"
   ]
  },
  {
   "cell_type": "code",
   "execution_count": 217,
   "id": "d5ed7ef1-97f9-41c5-b538-5051326af6f0",
   "metadata": {},
   "outputs": [],
   "source": [
    "#now appending data to csv\n",
    "\n",
    "with open('AmazonData.csv', 'a+', newline='',encoding='UTF8') as f:\n",
    "    writer = csv.writer(f)\n",
    "    writer.writerow(data)"
   ]
  },
  {
   "cell_type": "code",
   "execution_count": 221,
   "id": "c1e29ba2-c0cd-44b2-8a57-4222b1c8c516",
   "metadata": {},
   "outputs": [],
   "source": [
    "def price_checker():\n",
    "    URL = \"https://www.amazon.com/BANDAI-NAMCO-Entertainment-One-Piece/dp/B0C916S4CF/ref=mp_s_a_1_1?keywords=one+piece+card&qid=1690773153&sr=8-1\"\n",
    "    header = ({\"User-Agent\": \"Mozilla/5.0 (Linux; Android 10; K) AppleWebKit/537.36 (KHTML, like Gecko) Chrome/111.0.0.0 Mobile Safari/537.36\", \"Accept-Language\": \"en-Us, en;q=0.5\"})\n",
    "    page = requests.get(URL, headers = headers)\n",
    "    soup1 = BeautifulSoup(page.content, \"html.parser\")\n",
    "    soup2 = BeautifulSoup(soup1.prettify(), \"html.parser\")\n",
    "    title = soup2.find(id=\"title\")\n",
    "    price = soup2.find(\"span\", class_=\"a-offscreen\")\n",
    "    title = title.get_text()\n",
    "    price = price.get_text()\n",
    "    price = price.strip()[1:]\n",
    "    title = title.strip()\n",
    "    today = datetime.date.today()\n",
    "    import csv\n",
    "    header = ['Title','Price','Date']\n",
    "    data = [title,price,today]\n",
    "    with open('AmazonData.csv', 'a+', newline='', encoding='UTF8') as f:\n",
    "        writer = csv.writer(f)\n",
    "        writer.writerow(data)"
   ]
  },
  {
   "cell_type": "code",
   "execution_count": null,
   "id": "9a75a613-dc4c-40e9-9597-a69fdc1b202b",
   "metadata": {},
   "outputs": [],
   "source": [
    "while(True):\n",
    "    price_checker()\n",
    "    set.sleep(86400)"
   ]
  },
  {
   "cell_type": "code",
   "execution_count": 278,
   "id": "f1f873cb-9b8e-4dec-abbc-9b70ca6477ee",
   "metadata": {},
   "outputs": [
    {
     "name": "stdout",
     "output_type": "stream",
     "text": [
      "                                               Title   Price        Date\n",
      "0  BANDAI NAMCO Entertainment One Piece TCG: Pill...  114.71  2023-07-31\n",
      "1  BANDAI NAMCO Entertainment One Piece TCG: Pill...  114.71  2023-07-31\n",
      "2  BANDAI NAMCO Entertainment One Piece TCG: Pill...  114.71  2023-07-31\n",
      "3  BANDAI NAMCO Entertainment One Piece TCG: Pill...  114.71  2023-07-31\n",
      "4  BANDAI NAMCO Entertainment One Piece TCG: Pill...  114.71  2023-07-31\n",
      "5  BANDAI NAMCO Entertainment One Piece TCG: Pill...  114.71  2023-07-31\n"
     ]
    }
   ],
   "source": [
    "import pandas as pd\n",
    "\n",
    "df = pd.read_csv(r\"/storage/emulated/0/Documents/Pydroid3/AmazonData.csv\")\n",
    "print(df)"
   ]
  },
  {
   "cell_type": "code",
   "execution_count": null,
   "id": "3799f37a-33c3-4c4a-9922-12eaf37fb20f",
   "metadata": {},
   "outputs": [],
   "source": []
  },
  {
   "cell_type": "code",
   "execution_count": null,
   "id": "ffc62bf0-1e24-41d4-ad45-9ee9ef4f0816",
   "metadata": {},
   "outputs": [],
   "source": []
  }
 ],
 "metadata": {
  "kernelspec": {
   "display_name": "Python 3 (ipykernel)",
   "language": "python",
   "name": "python3"
  },
  "language_info": {
   "codemirror_mode": {
    "name": "ipython",
    "version": 3
   },
   "file_extension": ".py",
   "mimetype": "text/x-python",
   "name": "python",
   "nbconvert_exporter": "python",
   "pygments_lexer": "ipython3",
   "version": "3.9.7"
  }
 },
 "nbformat": 4,
 "nbformat_minor": 5
}
